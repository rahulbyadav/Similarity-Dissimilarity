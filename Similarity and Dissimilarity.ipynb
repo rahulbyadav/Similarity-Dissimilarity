{
 "cells": [
  {
   "cell_type": "code",
   "execution_count": 2,
   "id": "7176d585",
   "metadata": {},
   "outputs": [],
   "source": [
    "#Assignment No 7 - Implementation of similarity and dissimilarity measures\n",
    "#Numeric similarity and dissimilarty\n"
   ]
  },
  {
   "cell_type": "code",
   "execution_count": 3,
   "id": "e1072853",
   "metadata": {},
   "outputs": [],
   "source": [
    "#euclidean distance \n",
    "from math import*\n",
    " \n",
    "def euclidean_distance(x,y):\n",
    " \n",
    "    return sqrt(sum(pow(a-b,2) for a, b in zip(x, y)))\n",
    "\n"
   ]
  },
  {
   "cell_type": "code",
   "execution_count": 4,
   "id": "8c3116cf",
   "metadata": {},
   "outputs": [
    {
     "name": "stdout",
     "output_type": "stream",
     "text": [
      "9.746794344808963\n"
     ]
    }
   ],
   "source": [
    "print(euclidean_distance([0,3,4,5],[7,6,3,-1]))\n",
    "\n"
   ]
  },
  {
   "cell_type": "code",
   "execution_count": 5,
   "id": "d6aa3072",
   "metadata": {},
   "outputs": [],
   "source": [
    "\n",
    "#manhattan distance \n",
    "from math import*\n",
    " \n",
    "def manhattan_distance(x,y):\n",
    " \n",
    "    return sum(abs(a-b) for a,b in zip(x,y))\n"
   ]
  },
  {
   "cell_type": "code",
   "execution_count": 6,
   "id": "56760266",
   "metadata": {},
   "outputs": [
    {
     "name": "stdout",
     "output_type": "stream",
     "text": [
      "10\n"
     ]
    }
   ],
   "source": [
    "print(manhattan_distance([10,20,10],[10,20,20]))\n"
   ]
  },
  {
   "cell_type": "code",
   "execution_count": 7,
   "id": "4d5e0565",
   "metadata": {},
   "outputs": [],
   "source": [
    "#minkowski distance \n",
    "\n",
    "from math import*\n",
    "from decimal import Decimal\n",
    " \n",
    "def nth_root(value, n_root):\n",
    " \n",
    "    root_value = 1/float(n_root)\n",
    "    return round (Decimal(value) ** Decimal(root_value),3)\n",
    " \n",
    "def minkowski_distance(x,y,p_value):\n",
    " \n",
    "    return nth_root(sum(pow(abs(a-b),p_value) for a,b in zip(x, y)),p_value)\n"
   ]
  },
  {
   "cell_type": "code",
   "execution_count": 8,
   "id": "27a34343",
   "metadata": {},
   "outputs": [
    {
     "name": "stdout",
     "output_type": "stream",
     "text": [
      "8.373\n"
     ]
    }
   ],
   "source": [
    "print (minkowski_distance([0,3,4,5],[7,6,3,-1],3))\n"
   ]
  },
  {
   "cell_type": "code",
   "execution_count": 9,
   "id": "127cc51d",
   "metadata": {},
   "outputs": [],
   "source": [
    "#cosine similarity and dissimilarty\n"
   ]
  },
  {
   "cell_type": "code",
   "execution_count": 10,
   "id": "c7f6d1a7",
   "metadata": {},
   "outputs": [],
   "source": [
    "from math import*\n",
    " \n",
    "def square_rooted(x):\n",
    " \n",
    "    return round(sqrt(sum([a*a for a in x])),3)\n",
    " \n",
    "def cosine_similarity(x,y):\n",
    "    numerator = sum(a*b for a,b in zip(x,y))\n",
    "    denominator = square_rooted(x)*square_rooted(y)\n",
    "    return round(numerator/float(denominator),3)\n"
   ]
  },
  {
   "cell_type": "code",
   "execution_count": 11,
   "id": "3e6b7cd2",
   "metadata": {},
   "outputs": [
    {
     "name": "stdout",
     "output_type": "stream",
     "text": [
      "0.972\n"
     ]
    }
   ],
   "source": [
    "\n",
    "print(cosine_similarity([3, 45, 7, 2], [2, 54, 13, 15]))\n"
   ]
  },
  {
   "cell_type": "code",
   "execution_count": null,
   "id": "3e1185c3",
   "metadata": {},
   "outputs": [],
   "source": []
  }
 ],
 "metadata": {
  "kernelspec": {
   "display_name": "Python 3 (ipykernel)",
   "language": "python",
   "name": "python3"
  },
  "language_info": {
   "codemirror_mode": {
    "name": "ipython",
    "version": 3
   },
   "file_extension": ".py",
   "mimetype": "text/x-python",
   "name": "python",
   "nbconvert_exporter": "python",
   "pygments_lexer": "ipython3",
   "version": "3.9.7"
  }
 },
 "nbformat": 4,
 "nbformat_minor": 5
}
